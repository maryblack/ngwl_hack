{
  "nbformat": 4,
  "nbformat_minor": 0,
  "metadata": {
    "colab": {
      "name": "sbermarket_items.ipynb",
      "provenance": [],
      "collapsed_sections": []
    },
    "kernelspec": {
      "name": "python3",
      "display_name": "Python 3"
    }
  },
  "cells": [
    {
      "cell_type": "code",
      "metadata": {
        "id": "RcvjPG0ZpgBx"
      },
      "source": [
        "import sklearn\n",
        "import io\n",
        "import re\n",
        "import math\n",
        "import zipfile\n",
        "import os\n",
        "import pandas as pd\n",
        "import numpy as np\n",
        "import gc\n",
        "import matplotlib.pyplot as plt\n",
        "from datetime import datetime\n",
        "import seaborn as sns\n",
        "import matplotlib.pylab as plt\n",
        "from pylab import rcParams\n",
        "rcParams['figure.figsize'] = 20, 10\n"
      ],
      "execution_count": 2,
      "outputs": []
    },
    {
      "cell_type": "code",
      "metadata": {
        "id": "ClvSq7bfsU7U",
        "outputId": "b997ce9b-6dbc-437f-ee5c-d7b7f05e08f6",
        "colab": {
          "base_uri": "https://localhost:8080/",
          "height": 34
        }
      },
      "source": [
        "from google.colab import drive\n",
        "drive.mount('/content/drive')"
      ],
      "execution_count": 3,
      "outputs": [
        {
          "output_type": "stream",
          "text": [
            "Mounted at /content/drive\n"
          ],
          "name": "stdout"
        }
      ]
    },
    {
      "cell_type": "code",
      "metadata": {
        "id": "rz5y0s8Tq81j"
      },
      "source": [
        "path_to_zip_file = '/content/drive/My Drive/ngwl-predict-customer-churn.zip'\n",
        "directory_to_extract_to = '/content/drive/My Drive'"
      ],
      "execution_count": 5,
      "outputs": []
    },
    {
      "cell_type": "code",
      "metadata": {
        "id": "XUmMDAym7gcY"
      },
      "source": [
        "def get_data_from_path(DIRECTORY):\n",
        "    data = pd.DataFrame()\n",
        "    for root,dirs,files in os.walk(DIRECTORY):\n",
        "      for file in files:\n",
        "        if file.endswith(\".csv\"):\n",
        "            FILENAME = os.path.join(DIRECTORY, file)\n",
        "            if len(data)==0:\n",
        "                data = pd.read_csv(FILENAME).drop_duplicates()\n",
        "                all_data = data.copy()\n",
        "            else:\n",
        "                data = pd.read_csv(FILENAME).drop_duplicates()\n",
        "                all_data = all_data.append(data)\n",
        "            # print(len(data), len(all_data))\n",
        "\n",
        "    return all_data.reset_index(drop=True)"
      ],
      "execution_count": 6,
      "outputs": []
    },
    {
      "cell_type": "code",
      "metadata": {
        "id": "E2leR8B83sgK"
      },
      "source": [
        "TRAIN_FILEPATH = os.path.join(directory_to_extract_to, 'train', 'train.csv')\n",
        "TEST_FILEPATH = os.path.join(directory_to_extract_to, 'sample_submission.csv')\n",
        "SHIPMENTS_FILEPATH = os.path.join(directory_to_extract_to, 'shipments')\n",
        "ADDRESSES_FILEPATH = os.path.join(directory_to_extract_to, 'misc', 'addresses.csv')\n",
        "CATEGORIES_FILEPATH = os.path.join(directory_to_extract_to, 'misc', 'master_categories.csv')\n",
        "PROFILES_FILEPATH = os.path.join(directory_to_extract_to, 'misc', 'user_profiles.csv')\n",
        "ACTIONS_FILEPATH = os.path.join(directory_to_extract_to, 'messages', 'actions.csv')\n",
        "MESSAGES_FILEPATH = os.path.join(directory_to_extract_to, 'messages', 'messages.csv')\n",
        "LINE_ITEM_INFO_1 = os.path.join(directory_to_extract_to, 'line_items01')\n",
        "LINE_ITEM_INFO_2 = os.path.join(directory_to_extract_to, 'line_items02')\n",
        "LINE_ITEM_INFO_3 = os.path.join(directory_to_extract_to, 'line_items03')\n",
        "LINE_ITEM_INFO_4 = os.path.join(directory_to_extract_to, 'line_items04')\n",
        "LINE_ITEM_INFO_5 = os.path.join(directory_to_extract_to, 'line_items05')\n",
        "LINE_ITEM_INFO_6 = os.path.join(directory_to_extract_to, 'line_items06')\n",
        "LINE_ITEM_INFO_7 = os.path.join(directory_to_extract_to, 'line_items07')\n",
        "LINE_ITEM_INFO_8 = os.path.join(directory_to_extract_to, 'line_items08')"
      ],
      "execution_count": 7,
      "outputs": []
    },
    {
      "cell_type": "code",
      "metadata": {
        "id": "Zfu0nWHPsRFv"
      },
      "source": [
        "train = pd.read_csv(TRAIN_FILEPATH).drop_duplicates()\n",
        "test = pd.read_csv(TEST_FILEPATH, sep=';')"
      ],
      "execution_count": 13,
      "outputs": []
    },
    {
      "cell_type": "code",
      "metadata": {
        "id": "UylUtYywlfWg",
        "outputId": "e7f08119-0da1-4c22-a4bd-fd6824ee6692",
        "colab": {
          "base_uri": "https://localhost:8080/",
          "height": 34
        }
      },
      "source": [
        "len(train)"
      ],
      "execution_count": 14,
      "outputs": [
        {
          "output_type": "execute_result",
          "data": {
            "text/plain": [
              "1159576"
            ]
          },
          "metadata": {
            "tags": []
          },
          "execution_count": 14
        }
      ]
    },
    {
      "cell_type": "code",
      "metadata": {
        "id": "o4IzMDNG8G60"
      },
      "source": [
        "shipments = pd.read_csv(os.path.join(directory_to_extract_to, 'shipments.csv'))"
      ],
      "execution_count": 15,
      "outputs": []
    },
    {
      "cell_type": "code",
      "metadata": {
        "id": "kWGuqeuJ-uKZ"
      },
      "source": [
        "addresses = pd.read_csv(ADDRESSES_FILEPATH).drop_duplicates()"
      ],
      "execution_count": 16,
      "outputs": []
    },
    {
      "cell_type": "code",
      "metadata": {
        "id": "Eb0M22lNJsr7"
      },
      "source": [
        "# line_items01 = get_data_from_path(LINE_ITEM_INFO_1)\n",
        "# line_items02 = get_data_from_path(LINE_ITEM_INFO_2)\n",
        "# line_items03 = get_data_from_path(LINE_ITEM_INFO_3)\n",
        "# line_items04 = get_data_from_path(LINE_ITEM_INFO_4)\n",
        "# line_items05 = get_data_from_path(LINE_ITEM_INFO_5)\n",
        "# line_items06 = get_data_from_path(LINE_ITEM_INFO_6)\n",
        "# line_items07 = get_data_from_path(LINE_ITEM_INFO_7)\n",
        "# line_items08 = get_data_from_path(LINE_ITEM_INFO_8)"
      ],
      "execution_count": 6,
      "outputs": []
    },
    {
      "cell_type": "code",
      "metadata": {
        "id": "PMDmk5DgTsEN"
      },
      "source": [
        "# aggr_01 = line_items01.groupby(['shipment_id']).agg({'price': ['min', 'max', 'mean', 'sum'],\n",
        "#                                            'discount': ['min', 'max', 'mean','sum'],\n",
        "#                                            'quantity': ['min', 'max', 'sum'],\n",
        "#                                            'replaced': ['min', 'max', 'sum'],\n",
        "#                                            'cancelled': ['min', 'max', 'sum']})"
      ],
      "execution_count": 11,
      "outputs": []
    },
    {
      "cell_type": "code",
      "metadata": {
        "id": "Iug2_u2vViED"
      },
      "source": [
        "# aggr_01.columns = [\"_\".join(x) for x in aggr_01.columns.ravel()]"
      ],
      "execution_count": 12,
      "outputs": []
    },
    {
      "cell_type": "code",
      "metadata": {
        "id": "RvxzZEFyWBWE"
      },
      "source": [
        "# del line_items01\n",
        "# gc.collect()\n",
        "\n",
        "# aggr_02 = line_items02.groupby(['shipment_id']).agg({'price': ['min', 'max', 'mean', 'sum'],\n",
        "#                                            'discount': ['min', 'max', 'mean','sum'],\n",
        "#                                            'quantity': ['min', 'max', 'sum'],\n",
        "#                                            'replaced': ['min', 'max', 'sum'],\n",
        "#                                            'cancelled': ['min', 'max', 'sum']})\n",
        "\n",
        "# aggr_02.columns = [\"_\".join(x) for x in aggr_02.columns.ravel()]"
      ],
      "execution_count": 18,
      "outputs": []
    },
    {
      "cell_type": "code",
      "metadata": {
        "id": "V_3_2J4zWBaJ"
      },
      "source": [
        "# del line_items02\n",
        "# gc.collect()\n",
        "\n",
        "# aggr_03 = line_items03.groupby(['shipment_id']).agg({'price': ['min', 'max', 'mean', 'sum'],\n",
        "#                                            'discount': ['min', 'max', 'mean','sum'],\n",
        "#                                            'quantity': ['min', 'max', 'sum'],\n",
        "#                                            'replaced': ['min', 'max', 'sum'],\n",
        "#                                            'cancelled': ['min', 'max', 'sum']})\n",
        "\n",
        "# aggr_03.columns = [\"_\".join(x) for x in aggr_03.columns.ravel()]"
      ],
      "execution_count": 19,
      "outputs": []
    },
    {
      "cell_type": "code",
      "metadata": {
        "id": "PRdmamChWBiB"
      },
      "source": [
        "# del line_items03\n",
        "# gc.collect()\n",
        "\n",
        "# aggr_04 = line_items04.groupby(['shipment_id']).agg({'price': ['min', 'max', 'mean', 'sum'],\n",
        "#                                            'discount': ['min', 'max', 'mean','sum'],\n",
        "#                                            'quantity': ['min', 'max', 'sum'],\n",
        "#                                            'replaced': ['min', 'max', 'sum'],\n",
        "#                                            'cancelled': ['min', 'max', 'sum']})\n",
        "\n",
        "# aggr_04.columns = [\"_\".join(x) for x in aggr_04.columns.ravel()]"
      ],
      "execution_count": 20,
      "outputs": []
    },
    {
      "cell_type": "code",
      "metadata": {
        "id": "0ThCZYtEWcPM"
      },
      "source": [
        "# del line_items04\n",
        "# gc.collect()\n",
        "\n",
        "# aggr_05 = line_items05.groupby(['shipment_id']).agg({'price': ['min', 'max', 'mean', 'sum'],\n",
        "#                                            'discount': ['min', 'max', 'mean','sum'],\n",
        "#                                            'quantity': ['min', 'max', 'sum'],\n",
        "#                                            'replaced': ['min', 'max', 'sum'],\n",
        "#                                            'cancelled': ['min', 'max', 'sum']})\n",
        "\n",
        "# aggr_05.columns = [\"_\".join(x) for x in aggr_05.columns.ravel()]"
      ],
      "execution_count": 21,
      "outputs": []
    },
    {
      "cell_type": "code",
      "metadata": {
        "id": "rXxyXDfNWcS9"
      },
      "source": [
        "# del line_items05\n",
        "# gc.collect()\n",
        "\n",
        "# aggr_06 = line_items06.groupby(['shipment_id']).agg({'price': ['min', 'max', 'mean', 'sum'],\n",
        "#                                            'discount': ['min', 'max', 'mean','sum'],\n",
        "#                                            'quantity': ['min', 'max', 'sum'],\n",
        "#                                            'replaced': ['min', 'max', 'sum'],\n",
        "#                                            'cancelled': ['min', 'max', 'sum']})\n",
        "\n",
        "# aggr_06.columns = [\"_\".join(x) for x in aggr_06.columns.ravel()]"
      ],
      "execution_count": 22,
      "outputs": []
    },
    {
      "cell_type": "code",
      "metadata": {
        "id": "-wi9P6fdWcfQ"
      },
      "source": [
        "# del line_items06\n",
        "# gc.collect()\n",
        "\n",
        "# aggr_07 = line_items07.groupby(['shipment_id']).agg({'price': ['min', 'max', 'mean', 'sum'],\n",
        "#                                            'discount': ['min', 'max', 'mean','sum'],\n",
        "#                                            'quantity': ['min', 'max', 'sum'],\n",
        "#                                            'replaced': ['min', 'max', 'sum'],\n",
        "#                                            'cancelled': ['min', 'max', 'sum']})\n",
        "\n",
        "# aggr_07.columns = [\"_\".join(x) for x in aggr_07.columns.ravel()]"
      ],
      "execution_count": 23,
      "outputs": []
    },
    {
      "cell_type": "code",
      "metadata": {
        "id": "0IrKNLzlXamd"
      },
      "source": [
        "# del line_items07\n",
        "# gc.collect()\n",
        "\n",
        "# aggr_08 = line_items08.groupby(['shipment_id']).agg({'price': ['min', 'max', 'mean', 'sum'],\n",
        "#                                            'discount': ['min', 'max', 'mean','sum'],\n",
        "#                                            'quantity': ['min', 'max', 'sum'],\n",
        "#                                            'replaced': ['min', 'max', 'sum'],\n",
        "#                                            'cancelled': ['min', 'max', 'sum']})\n",
        "\n",
        "# aggr_08.columns = [\"_\".join(x) for x in aggr_08.columns.ravel()]"
      ],
      "execution_count": 24,
      "outputs": []
    },
    {
      "cell_type": "code",
      "metadata": {
        "id": "lsX28avBPQir"
      },
      "source": [
        "# line_items_train = pd.concat([aggr_01,\n",
        "#                         aggr_02,\n",
        "#                         aggr_03,\n",
        "#                         aggr_04,\n",
        "#                         aggr_05,\n",
        "#                         aggr_06,\n",
        "#                         aggr_07\n",
        "#                         ], axis=0)"
      ],
      "execution_count": 25,
      "outputs": []
    },
    {
      "cell_type": "code",
      "metadata": {
        "id": "AS0n2CzQZOh-"
      },
      "source": [
        "# line_items_train.to_csv(os.path.join(directory_to_extract_to, 'line_items_train.csv'))\n",
        "line_items_train = pd.read_csv(os.path.join(directory_to_extract_to, 'line_items_train.csv'))"
      ],
      "execution_count": 9,
      "outputs": []
    },
    {
      "cell_type": "code",
      "metadata": {
        "id": "GZOluU0wXvbV"
      },
      "source": [
        "# line_items_test = aggr_08.copy()"
      ],
      "execution_count": 26,
      "outputs": []
    },
    {
      "cell_type": "code",
      "metadata": {
        "id": "iIVmsOWSZm5M"
      },
      "source": [
        "# line_items_test.to_csv(os.path.join(directory_to_extract_to, 'line_items_test.csv'))\n",
        "line_items_test = pd.read_csv(os.path.join(directory_to_extract_to, 'line_items_test.csv'))"
      ],
      "execution_count": 10,
      "outputs": []
    },
    {
      "cell_type": "code",
      "metadata": {
        "id": "emzs-D1lPoV-",
        "outputId": "31d292fb-cf63-4e5f-cb1c-16cb6b1c7121",
        "colab": {
          "base_uri": "https://localhost:8080/",
          "height": 34
        }
      },
      "source": [
        "# del train, test, shipments, addresses\n",
        "gc.collect()"
      ],
      "execution_count": 33,
      "outputs": [
        {
          "output_type": "execute_result",
          "data": {
            "text/plain": [
              "0"
            ]
          },
          "metadata": {
            "tags": []
          },
          "execution_count": 33
        }
      ]
    },
    {
      "cell_type": "code",
      "metadata": {
        "id": "JGToD7ecDqpD"
      },
      "source": [
        "step_1_test = test.merge(addresses, how='left', left_on='Id', right_on='phone_id').merge(shipments[shipments.order_month=='2020-08'], how='left', left_on='id', right_on='ship_address_id')\n",
        "step_1_train = train.merge(addresses, how='left', on='phone_id').merge(shipments, how='left', left_on=['id','order_completed_at'], right_on=['ship_address_id', 'order_month'])\n",
        "    "
      ],
      "execution_count": 17,
      "outputs": []
    },
    {
      "cell_type": "code",
      "metadata": {
        "id": "gevq6R7LYCvY"
      },
      "source": [
        "items_train_aggr = step_1_train.merge(line_items_train, how='left', on='shipment_id')\\\n",
        "                               .groupby(['phone_id', 'order_month']) \\\n",
        "                               .agg({'price_min':['min', 'max', 'sum', 'mean'],\n",
        "                                    'price_max': ['min', 'max', 'sum', 'mean'],\n",
        "                                    'price_mean':['min', 'max', 'sum', 'mean'],\n",
        "                                    'price_sum': ['min', 'max', 'sum', 'mean'],\n",
        "                                    'discount_min':['max', 'sum'],\n",
        "                                    'discount_max':['max', 'sum'],\n",
        "                                    'discount_mean':['max', 'sum'],\n",
        "                                    'discount_sum':['max', 'sum'], \n",
        "                                    'quantity_min':['max', 'sum'],\n",
        "                                    'quantity_max':['max', 'sum'],\n",
        "                                    'quantity_sum':['max', 'sum'], \n",
        "                                    'replaced_min':['max', 'sum'], \n",
        "                                    'replaced_max':['max', 'sum'],\n",
        "                                    'replaced_sum':['max', 'sum'],\n",
        "                                    'cancelled_min':['max', 'sum'],\n",
        "                                    'cancelled_max':['max', 'sum'],\n",
        "                                    'cancelled_sum':['max', 'sum']})"
      ],
      "execution_count": 18,
      "outputs": []
    },
    {
      "cell_type": "code",
      "metadata": {
        "id": "w49oZzPAYC0W"
      },
      "source": [
        "items_train_aggr.columns = [\"_\".join(x) for x in items_train_aggr.columns.ravel()]"
      ],
      "execution_count": 19,
      "outputs": []
    },
    {
      "cell_type": "code",
      "metadata": {
        "id": "P7rc0T9wYC_t"
      },
      "source": [
        "items_test_aggr = step_1_test.merge(line_items_test, how='left', on='shipment_id')\\\n",
        "                               .groupby(['phone_id', 'order_month']) \\\n",
        "                               .agg({'price_min':['min', 'max', 'sum', 'mean'],\n",
        "                                    'price_max': ['min', 'max', 'sum', 'mean'],\n",
        "                                    'price_mean':['min', 'max', 'sum', 'mean'],\n",
        "                                    'price_sum': ['min', 'max', 'sum', 'mean'],\n",
        "                                    'discount_min':['max', 'sum'],\n",
        "                                    'discount_max':['max', 'sum'],\n",
        "                                    'discount_mean':['max', 'sum'],\n",
        "                                    'discount_sum':['max', 'sum'], \n",
        "                                    'quantity_min':['max', 'sum'],\n",
        "                                    'quantity_max':['max', 'sum'],\n",
        "                                    'quantity_sum':['max', 'sum'], \n",
        "                                    'replaced_min':['max', 'sum'], \n",
        "                                    'replaced_max':['max', 'sum'],\n",
        "                                    'replaced_sum':['max', 'sum'],\n",
        "                                    'cancelled_min':['max', 'sum'],\n",
        "                                    'cancelled_max':['max', 'sum'],\n",
        "                                    'cancelled_sum':['max', 'sum']})\n",
        "                               \n",
        "items_test_aggr.columns = [\"_\".join(x) for x in items_test_aggr.columns.ravel()]"
      ],
      "execution_count": 20,
      "outputs": []
    },
    {
      "cell_type": "code",
      "metadata": {
        "id": "2belewIWYDJi"
      },
      "source": [
        ""
      ],
      "execution_count": null,
      "outputs": []
    },
    {
      "cell_type": "code",
      "metadata": {
        "id": "XjpiFRNfDx9C"
      },
      "source": [
        "import numpy as np\n",
        "import math\n",
        "import seaborn as sns\n",
        "import matplotlib.pylab as plt\n",
        "from sklearn.preprocessing import OneHotEncoder\n",
        "from pylab import rcParams\n",
        "rcParams['figure.figsize'] = 20, 10\n",
        "sns.set_style(\"white\")"
      ],
      "execution_count": 59,
      "outputs": []
    },
    {
      "cell_type": "code",
      "metadata": {
        "id": "ekIztggGGmv-"
      },
      "source": [
        "used_columns = ['total_cost_min', 'total_cost_max', 'total_cost_sum', 'total_cost_mean',\n",
        "       'total_weight_min', 'total_weight_max', 'total_weight_sum',\n",
        "       'total_weight_mean', 'order_duration_time_min',\n",
        "       'order_duration_time_max', 'order_duration_time_sum',\n",
        "       'order_duration_time_mean', 'shipment_duration_time_min',\n",
        "       'shipment_duration_time_max', 'shipment_duration_time_sum',\n",
        "       'order_time_min', 'order_time_max', 'order_time_sum', 'order_time_mean',\n",
        "       'promo_total_min', 'promo_total_sum', 'rate_min', 'rate_max', 'order_completed_at', 'target',\n",
        "       'rate_mean', 'is_complete_sum', 'is_canceled_sum', 'phone_id']"
      ],
      "execution_count": 42,
      "outputs": []
    },
    {
      "cell_type": "code",
      "metadata": {
        "id": "D54_Ns-GDqvD"
      },
      "source": [
        "# data_train = pd.read_csv(os.path.join(directory_to_extract_to, 'data_train_age_gender.csv'))\n",
        "data_train = pd.read_csv(os.path.join(directory_to_extract_to, 'data_train_age_gender.csv'))"
      ],
      "execution_count": 159,
      "outputs": []
    },
    {
      "cell_type": "code",
      "metadata": {
        "id": "tvBXISTrdODf"
      },
      "source": [
        "data_test = pd.read_csv(os.path.join(directory_to_extract_to, 'data_test_age_gender.csv'))"
      ],
      "execution_count": 160,
      "outputs": []
    },
    {
      "cell_type": "code",
      "metadata": {
        "id": "8uLuYK2fdOLq"
      },
      "source": [
        "data_train_full = data_train.merge(items_train_aggr, how='left', left_on=['phone_id','order_completed_at'], right_on=['phone_id', 'order_month'])"
      ],
      "execution_count": 161,
      "outputs": []
    },
    {
      "cell_type": "code",
      "metadata": {
        "id": "XDEdhyLDdOJR"
      },
      "source": [
        "data_train_full.to_csv(os.path.join(directory_to_extract_to, 'data_train_items.csv'), header=True, index=False)"
      ],
      "execution_count": 164,
      "outputs": []
    },
    {
      "cell_type": "code",
      "metadata": {
        "id": "64geDItYdOHI"
      },
      "source": [
        "data_test_full = data_test.merge(items_test_aggr,  how='left', left_on=['Id'], right_on=['phone_id'])"
      ],
      "execution_count": 162,
      "outputs": []
    },
    {
      "cell_type": "code",
      "metadata": {
        "id": "vVnqMyQOdi9e"
      },
      "source": [
        "data_test_full.to_csv(os.path.join(directory_to_extract_to, 'data_test_items.csv'), header=True, index=False)"
      ],
      "execution_count": 165,
      "outputs": []
    },
    {
      "cell_type": "code",
      "metadata": {
        "id": "WVjmGbFas7t3",
        "outputId": "80384f50-2ea7-432f-913e-2c4b2075c462",
        "colab": {
          "base_uri": "https://localhost:8080/",
          "height": 34
        }
      },
      "source": [
        "data_train_full.shape, data_test_full.shape"
      ],
      "execution_count": 167,
      "outputs": [
        {
          "output_type": "execute_result",
          "data": {
            "text/plain": [
              "((1159576, 83), (214609, 81))"
            ]
          },
          "metadata": {
            "tags": []
          },
          "execution_count": 167
        }
      ]
    },
    {
      "cell_type": "code",
      "metadata": {
        "id": "9bXH9wz5tNRl",
        "outputId": "6b36cc91-783b-43b9-c25b-1cf0530ab1a6",
        "colab": {
          "base_uri": "https://localhost:8080/",
          "height": 34
        }
      },
      "source": [
        "data_train.shape, data_test.shape"
      ],
      "execution_count": 166,
      "outputs": [
        {
          "output_type": "execute_result",
          "data": {
            "text/plain": [
              "((1159576, 41), (214609, 39))"
            ]
          },
          "metadata": {
            "tags": []
          },
          "execution_count": 166
        }
      ]
    },
    {
      "cell_type": "code",
      "metadata": {
        "id": "CXwx_pZJqa3o",
        "outputId": "56ac7de6-801e-4233-ec14-9cf961fca3d7",
        "colab": {
          "base_uri": "https://localhost:8080/",
          "height": 408
        }
      },
      "source": [
        "data_train_full.columns"
      ],
      "execution_count": 143,
      "outputs": [
        {
          "output_type": "execute_result",
          "data": {
            "text/plain": [
              "Index(['total_cost_min', 'total_cost_max', 'total_cost_sum', 'total_cost_mean',\n",
              "       'total_weight_min', 'total_weight_max', 'total_weight_sum',\n",
              "       'total_weight_mean', 'order_duration_time_min',\n",
              "       'order_duration_time_max', 'order_duration_time_sum',\n",
              "       'order_duration_time_mean', 'shipment_duration_time_min',\n",
              "       'shipment_duration_time_max', 'shipment_duration_time_sum',\n",
              "       'order_time_min', 'order_time_max', 'order_time_sum', 'order_time_mean',\n",
              "       'promo_total_min', 'promo_total_sum', 'rate_min', 'rate_max',\n",
              "       'rate_mean', 'is_complete_sum', 'is_canceled_sum', 'target', 'phone_id',\n",
              "       'order_completed_at', 'price_min_min', 'price_min_max', 'price_min_sum',\n",
              "       'price_min_mean', 'price_max_min', 'price_max_max', 'price_max_sum',\n",
              "       'price_max_mean', 'price_mean_min', 'price_mean_max', 'price_mean_sum',\n",
              "       'price_mean_mean', 'price_sum_min', 'price_sum_max', 'price_sum_sum',\n",
              "       'price_sum_mean', 'discount_min_max', 'discount_min_sum',\n",
              "       'discount_max_max', 'discount_max_sum', 'discount_mean_max',\n",
              "       'discount_mean_sum', 'discount_sum_max', 'discount_sum_sum',\n",
              "       'quantity_min_max', 'quantity_min_sum', 'quantity_max_max',\n",
              "       'quantity_max_sum', 'quantity_sum_max', 'quantity_sum_sum',\n",
              "       'replaced_min_max', 'replaced_min_sum', 'replaced_max_max',\n",
              "       'replaced_max_sum', 'replaced_sum_max', 'replaced_sum_sum',\n",
              "       'cancelled_min_max', 'cancelled_min_sum', 'cancelled_max_max',\n",
              "       'cancelled_max_sum', 'cancelled_sum_max', 'cancelled_sum_sum'],\n",
              "      dtype='object')"
            ]
          },
          "metadata": {
            "tags": []
          },
          "execution_count": 143
        }
      ]
    },
    {
      "cell_type": "code",
      "metadata": {
        "id": "x4P1gvMGjInK"
      },
      "source": [
        "# bins = data_train.order_duration_time_min.apply(lambda x:  divmod(divmod(x, 60)[0],60)[0]).quantile(q=np.arange(0, 1.1, 0.1)).to_list()\n",
        "bins = data_train_full.age.quantile(q=np.arange(0, 1.01, 0.01)).to_list()"
      ],
      "execution_count": 232,
      "outputs": []
    },
    {
      "cell_type": "code",
      "metadata": {
        "id": "HnmO-dNtIyhx"
      },
      "source": [
        "data_train_full['is_promo'] = data_train_full[\"('is_email', 'max')\"] +  data_train_full[\"('is_sms', 'max')\"] + data_train_full[\"('is_hidden', 'max')\"] + data_train_full[\"('is_sale', 'max')\"]"
      ],
      "execution_count": 247,
      "outputs": []
    },
    {
      "cell_type": "code",
      "metadata": {
        "id": "eD826yzRjIxc"
      },
      "source": [
        "# data_train.loc[:, 'order_duration_bin'] = pd.cut(data_train.order_duration_time_min.apply(lambda x:  divmod(divmod(x, 60)[0],60)[0]), bins, duplicates='drop')\n",
        "data_train_full.loc[:, 'age_bin'] = pd.cut(data_train_full.age, bins, duplicates='drop')"
      ],
      "execution_count": 234,
      "outputs": []
    },
    {
      "cell_type": "code",
      "metadata": {
        "id": "WtTL5B_mLgCQ",
        "outputId": "92d8f7e3-0bdc-4a35-d142-699d5435593b",
        "colab": {
          "base_uri": "https://localhost:8080/",
          "height": 68
        }
      },
      "source": [
        "data_train_full[data_train_full.promo_total_min<0].target.value_counts()"
      ],
      "execution_count": 258,
      "outputs": [
        {
          "output_type": "execute_result",
          "data": {
            "text/plain": [
              "1.0    156663\n",
              "0.0     70454\n",
              "Name: target, dtype: int64"
            ]
          },
          "metadata": {
            "tags": []
          },
          "execution_count": 258
        }
      ]
    },
    {
      "cell_type": "code",
      "metadata": {
        "id": "tfBHYgc8NaiL",
        "outputId": "2ef423ef-0453-49f0-e970-13a54366cf10",
        "colab": {
          "base_uri": "https://localhost:8080/",
          "height": 622
        }
      },
      "source": [
        "plt.plot(data_train_full.groupby('order_completed_at').agg({'promo_total_sum': 'sum'}))"
      ],
      "execution_count": 269,
      "outputs": [
        {
          "output_type": "execute_result",
          "data": {
            "text/plain": [
              "[<matplotlib.lines.Line2D at 0x7f2630076438>]"
            ]
          },
          "metadata": {
            "tags": []
          },
          "execution_count": 269
        },
        {
          "output_type": "display_data",
          "data": {
            "image/png": "[encoded data removed]",
            "text/plain": [
              "<Figure size 1440x720 with 1 Axes>"
            ]
          },
          "metadata": {
            "tags": []
          }
        }
      ]
    },
    {
      "cell_type": "code",
      "metadata": {
        "id": "P7K2xV_FPhCZ",
        "outputId": "2e07a13d-025b-4956-e694-09ed041af5e0",
        "colab": {
          "base_uri": "https://localhost:8080/",
          "height": 622
        }
      },
      "source": [
        "plt.plot(data_train_full[data_train_full.target==1].groupby('order_completed_at').agg({'phone_id': 'sum'}))"
      ],
      "execution_count": 270,
      "outputs": [
        {
          "output_type": "execute_result",
          "data": {
            "text/plain": [
              "[<matplotlib.lines.Line2D at 0x7f2621cf6160>]"
            ]
          },
          "metadata": {
            "tags": []
          },
          "execution_count": 270
        },
        {
          "output_type": "display_data",
          "data": {
            "image/png": "[encoded data removed]",
            "text/plain": [
              "<Figure size 1440x720 with 1 Axes>"
            ]
          },
          "metadata": {
            "tags": []
          }
        }
      ]
    },
    {
      "cell_type": "code",
      "metadata": {
        "id": "ozkTfIQTK1HZ",
        "outputId": "f3e4b997-09e0-4535-b2b0-a5a0f247f2c3",
        "colab": {
          "base_uri": "https://localhost:8080/",
          "height": 68
        }
      },
      "source": [
        "data_train_full[(data_train_full.is_promo>0) & (data_train_full.promo_total_min<0)].target.value_counts()"
      ],
      "execution_count": 257,
      "outputs": [
        {
          "output_type": "execute_result",
          "data": {
            "text/plain": [
              "1.0    97\n",
              "0.0    36\n",
              "Name: target, dtype: int64"
            ]
          },
          "metadata": {
            "tags": []
          },
          "execution_count": 257
        }
      ]
    },
    {
      "cell_type": "code",
      "metadata": {
        "id": "9tiiqITUL0lO",
        "outputId": "69de3754-3a97-4831-983e-0cfce1c8fbd5",
        "colab": {
          "base_uri": "https://localhost:8080/",
          "height": 68
        }
      },
      "source": [
        "data_train_full[data_train_full.is_promo>0].target.value_counts()"
      ],
      "execution_count": 259,
      "outputs": [
        {
          "output_type": "execute_result",
          "data": {
            "text/plain": [
              "1.0    239\n",
              "0.0    102\n",
              "Name: target, dtype: int64"
            ]
          },
          "metadata": {
            "tags": []
          },
          "execution_count": 259
        }
      ]
    },
    {
      "cell_type": "code",
      "metadata": {
        "id": "fHGG0M2oL_lu",
        "outputId": "c930c998-4da4-4e3c-cfe8-76012018d1e8",
        "colab": {
          "base_uri": "https://localhost:8080/",
          "height": 34
        }
      },
      "source": [
        "97/239, 36/102"
      ],
      "execution_count": 261,
      "outputs": [
        {
          "output_type": "execute_result",
          "data": {
            "text/plain": [
              "(0.40585774058577406, 0.35294117647058826)"
            ]
          },
          "metadata": {
            "tags": []
          },
          "execution_count": 261
        }
      ]
    },
    {
      "cell_type": "code",
      "metadata": {
        "id": "DxF2wdDDLBX4"
      },
      "source": [
        "data_train_full[data_train_full.is_promo>0].target.value_counts(normalize=True)"
      ],
      "execution_count": null,
      "outputs": []
    },
    {
      "cell_type": "code",
      "metadata": {
        "id": "A9qRay4fD0z7",
        "outputId": "f263b171-dc87-4ea1-d9dd-a7b9e6d73b54",
        "colab": {
          "base_uri": "https://localhost:8080/",
          "height": 301
        }
      },
      "source": [
        "f, ax = plt.subplots(figsize=(15, 4))\n",
        "sns.countplot(y='is_promo', hue='target', data=data_train_full[data_train_full.is_promo>0], palette='Blues_r').set_title('Распределение таргета по суммарной стоимости заказов в месяц');\n",
        "plt.show()"
      ],
      "execution_count": 253,
      "outputs": [
        {
          "output_type": "display_data",
          "data": {
            "image/png": "[encoded data removed]",
            "text/plain": [
              "<Figure size 1080x288 with 1 Axes>"
            ]
          },
          "metadata": {
            "tags": []
          }
        }
      ]
    }
  ]
}