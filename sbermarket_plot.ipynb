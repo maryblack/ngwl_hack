{
  "nbformat": 4,
  "nbformat_minor": 0,
  "metadata": {
    "colab": {
      "name": "sbermarket_plot.ipynb",
      "provenance": [],
      "collapsed_sections": []
    },
    "kernelspec": {
      "display_name": "Python 3",
      "name": "python3"
    }
  },
  "cells": [
    {
      "cell_type": "code",
      "metadata": {
        "id": "RcvjPG0ZpgBx"
      },
      "source": [
        "import numpy as np\n",
        "import math\n",
        "import seaborn as sns\n",
        "import matplotlib.pylab as plt\n",
        "import pandas as pd\n",
        "from pylab import rcParams\n",
        "rcParams['figure.figsize'] = 20, 10"
      ],
      "execution_count": 5,
      "outputs": []
    },
    {
      "cell_type": "code",
      "metadata": {
        "id": "ClvSq7bfsU7U",
        "outputId": "cf31bdc8-6707-4682-b250-6d238a5c46be",
        "colab": {
          "base_uri": "https://localhost:8080/",
          "height": 34
        }
      },
      "source": [
        "from google.colab import drive\n",
        "drive.mount('/content/drive')"
      ],
      "execution_count": 3,
      "outputs": [
        {
          "output_type": "stream",
          "text": [
            "Mounted at /content/drive\n"
          ],
          "name": "stdout"
        }
      ]
    },
    {
      "cell_type": "code",
      "metadata": {
        "id": "rz5y0s8Tq81j"
      },
      "source": [
        "path_to_zip_file = '/content/drive/My Drive/ngwl-predict-customer-churn.zip'\n",
        "directory_to_extract_to = '/content/drive/My Drive'"
      ],
      "execution_count": 4,
      "outputs": []
    },
    {
      "cell_type": "markdown",
      "metadata": {
        "id": "huUN3iNg452k"
      },
      "source": [
        "## Читаем данные\n",
        "\n",
        "Примечание: Использован агрегат от предыдущего запуска\n"
      ]
    },
    {
      "cell_type": "code",
      "metadata": {
        "id": "ZEYYDQmjwmBa"
      },
      "source": [
        "data_train = pd.read_csv(os.path.join(directory_to_extract_to, 'data_train_items.csv'))"
      ],
      "execution_count": 24,
      "outputs": []
    },
    {
      "cell_type": "code",
      "metadata": {
        "id": "tUKgFvhaz1ku"
      },
      "source": [
        "data_test = pd.read_csv(os.path.join(directory_to_extract_to, 'data_test_items.csv'))"
      ],
      "execution_count": 7,
      "outputs": []
    },
    {
      "cell_type": "code",
      "metadata": {
        "id": "b84A1v-O9igv"
      },
      "source": [
        "bins = data_train.order_duration_time_min.quantile(q=np.arange(0, 1.1, 0.1)).to_list()\n",
        "data_train.loc[:, 'order_duration_time_min_bin'] = pd.cut(data_train.order_duration_time_min, bins, duplicates='drop')\n",
        "# f, ax = plt.subplots(figsize=(15, 4))\n",
        "# sns.countplot(y='order_duration_time_min_bin', hue='target', data=data_train_full, palette='Blues_r').set_title('Распределение таргета по FEATURE');\n",
        "# plt.show()"
      ],
      "execution_count": 13,
      "outputs": []
    },
    {
      "cell_type": "code",
      "metadata": {
        "id": "ZBIbsJzVIkvr",
        "outputId": "4dfc0509-e310-4ac5-9426-a53b14fcd81d",
        "colab": {
          "base_uri": "https://localhost:8080/",
          "height": 476
        }
      },
      "source": [
        "data_train.columns"
      ],
      "execution_count": 35,
      "outputs": [
        {
          "output_type": "execute_result",
          "data": {
            "text/plain": [
              "Index(['total_cost_min', 'total_cost_max', 'total_cost_sum', 'total_cost_mean',\n",
              "       'total_weight_min', 'total_weight_max', 'total_weight_sum',\n",
              "       'total_weight_mean', 'order_duration_time_min',\n",
              "       'order_duration_time_max', 'order_duration_time_sum',\n",
              "       'order_duration_time_mean', 'shipment_duration_time_min',\n",
              "       'shipment_duration_time_max', 'shipment_duration_time_sum',\n",
              "       'order_time_min', 'order_time_max', 'order_time_sum', 'order_time_mean',\n",
              "       'promo_total_min', 'promo_total_sum', 'rate_min', 'rate_max',\n",
              "       'rate_mean', 'is_complete_sum', 'is_canceled_sum', 'is_web_max',\n",
              "       'is_app_max', 'is_windows_max', 'is_linux_max', '('is_push', 'max')',\n",
              "       '('is_email', 'max')', '('is_sms', 'max')', '('is_hidden', 'max')',\n",
              "       '('is_sale', 'max')', 'target', 'phone_id', 'order_completed_at',\n",
              "       'gender', 'age', 'city', 'price_min_min', 'price_min_max',\n",
              "       'price_min_sum', 'price_min_mean', 'price_max_min', 'price_max_max',\n",
              "       'price_max_sum', 'price_max_mean', 'price_mean_min', 'price_mean_max',\n",
              "       'price_mean_sum', 'price_mean_mean', 'price_sum_min', 'price_sum_max',\n",
              "       'price_sum_sum', 'price_sum_mean', 'discount_min_max',\n",
              "       'discount_min_sum', 'discount_max_max', 'discount_max_sum',\n",
              "       'discount_mean_max', 'discount_mean_sum', 'discount_sum_max',\n",
              "       'discount_sum_sum', 'quantity_min_max', 'quantity_min_sum',\n",
              "       'quantity_max_max', 'quantity_max_sum', 'quantity_sum_max',\n",
              "       'quantity_sum_sum', 'replaced_min_max', 'replaced_min_sum',\n",
              "       'replaced_max_max', 'replaced_max_sum', 'replaced_sum_max',\n",
              "       'replaced_sum_sum', 'cancelled_min_max', 'cancelled_min_sum',\n",
              "       'cancelled_max_max', 'cancelled_max_sum', 'cancelled_sum_max',\n",
              "       'cancelled_sum_sum'],\n",
              "      dtype='object')"
            ]
          },
          "metadata": {
            "tags": []
          },
          "execution_count": 35
        }
      ]
    },
    {
      "cell_type": "code",
      "metadata": {
        "id": "52j2j8t7HrqG",
        "outputId": "5eed461d-9e32-4f26-f5cf-d8b2e6716333",
        "colab": {
          "base_uri": "https://localhost:8080/",
          "height": 102
        }
      },
      "source": [
        "data_train[[\"('is_email', 'max')\", \"('is_sms', 'max')\", \"('is_hidden', 'max')\", \"('is_sale', 'max')\"]].agg(max)"
      ],
      "execution_count": 42,
      "outputs": [
        {
          "output_type": "execute_result",
          "data": {
            "text/plain": [
              "('is_email', 'max')     1.0\n",
              "('is_sms', 'max')       1.0\n",
              "('is_hidden', 'max')    1.0\n",
              "('is_sale', 'max')      1.0\n",
              "dtype: float64"
            ]
          },
          "metadata": {
            "tags": []
          },
          "execution_count": 42
        }
      ]
    },
    {
      "cell_type": "code",
      "metadata": {
        "id": "R5S2y6ZyeogV",
        "outputId": "73da96a4-e0d6-447e-fd26-71db0f655632",
        "colab": {
          "base_uri": "https://localhost:8080/",
          "height": 295
        }
      },
      "source": [
        "f, ax = plt.subplots(figsize=(15, 4))\n",
        "sns.countplot(y=\"('is_sale', 'max')\", hue='target', data=data_train, palette='Blues_r').set_title('Target Distribution by rate');\n",
        "plt.show()"
      ],
      "execution_count": 34,
      "outputs": [
        {
          "output_type": "display_data",
          "data": {
            "image/png": "[encoded data removed]",
            "text/plain": [
              "<Figure size 1080x288 with 1 Axes>"
            ]
          },
          "metadata": {
            "tags": [],
            "needs_background": "light"
          }
        }
      ]
    },
    {
      "cell_type": "code",
      "metadata": {
        "id": "r07bC4cHeoj4",
        "outputId": "034734a0-e6c4-4f8e-a056-c553b7c1e727",
        "colab": {
          "base_uri": "https://localhost:8080/",
          "height": 34
        }
      },
      "source": [
        "gc.collect()"
      ],
      "execution_count": null,
      "outputs": [
        {
          "output_type": "execute_result",
          "data": {
            "text/plain": [
              "11"
            ]
          },
          "metadata": {
            "tags": []
          },
          "execution_count": 6
        }
      ]
    },
    {
      "cell_type": "code",
      "metadata": {
        "id": "r7OGXzBleorW"
      },
      "source": [
        "# data_test_full.to_csv(os.path.join(directory_to_extract_to, 'data_test_city.csv'), header=True, index=False)"
      ],
      "execution_count": null,
      "outputs": []
    },
    {
      "cell_type": "code",
      "metadata": {
        "id": "Yv4TZjyEo9cY"
      },
      "source": [
        "# data_train_full.to_csv(os.path.join(directory_to_extract_to, 'data_train_city.csv'), header=True, index=False)"
      ],
      "execution_count": null,
      "outputs": []
    }
  ]
}