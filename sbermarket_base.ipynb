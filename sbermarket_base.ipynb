{
  "nbformat": 4,
  "nbformat_minor": 0,
  "metadata": {
    "colab": {
      "name": "sbermarket_base.ipynb",
      "provenance": [],
      "collapsed_sections": []
    },
    "kernelspec": {
      "display_name": "Python 3",
      "name": "python3"
    }
  },
  "cells": [
    {
      "cell_type": "code",
      "metadata": {
        "id": "RcvjPG0ZpgBx"
      },
      "source": [
        "import sklearn\n",
        "import io\n",
        "import re\n",
        "import math\n",
        "import zipfile\n",
        "import os\n",
        "import pandas as pd\n",
        "import gc\n",
        "import matplotlib.pyplot as plt\n",
        "from datetime import datetime\n",
        "from sklearn.preprocessing import OneHotEncoder\n"
      ],
      "execution_count": 1,
      "outputs": []
    },
    {
      "cell_type": "code",
      "metadata": {
        "id": "ClvSq7bfsU7U",
        "outputId": "5f4735ec-53c9-4c18-d183-b20c40a6460e",
        "colab": {
          "base_uri": "https://localhost:8080/",
          "height": 34
        }
      },
      "source": [
        "from google.colab import drive\n",
        "drive.mount('/content/drive')"
      ],
      "execution_count": 2,
      "outputs": [
        {
          "output_type": "stream",
          "text": [
            "Mounted at /content/drive\n"
          ],
          "name": "stdout"
        }
      ]
    },
    {
      "cell_type": "code",
      "metadata": {
        "id": "rz5y0s8Tq81j"
      },
      "source": [
        "path_to_zip_file = '/content/drive/My Drive/ngwl-predict-customer-churn.zip'\n",
        "directory_to_extract_to = '/content/drive/My Drive'"
      ],
      "execution_count": 3,
      "outputs": []
    },
    {
      "cell_type": "code",
      "metadata": {
        "id": "XUmMDAym7gcY"
      },
      "source": [
        "#заджойнить все файлы в директории\n",
        "def get_data_from_path(DIRECTORY):\n",
        "    data = pd.DataFrame()\n",
        "    for root,dirs,files in os.walk(DIRECTORY):\n",
        "      for file in files:\n",
        "        if file.endswith(\".csv\"):\n",
        "            FILENAME = os.path.join(DIRECTORY, file)\n",
        "            if len(data)==0:\n",
        "                data = pd.read_csv(FILENAME).drop_duplicates()\n",
        "                all_data = data.copy()\n",
        "            else:\n",
        "                data = pd.read_csv(FILENAME).drop_duplicates()\n",
        "                all_data = all_data.append(data)\n",
        "            # print(len(data), len(all_data))\n",
        "\n",
        "    return all_data.reset_index(drop=True)"
      ],
      "execution_count": 4,
      "outputs": []
    },
    {
      "cell_type": "code",
      "metadata": {
        "id": "E2leR8B83sgK"
      },
      "source": [
        "TRAIN_FILEPATH = os.path.join(directory_to_extract_to, 'train', 'train.csv')\n",
        "TEST_FILEPATH = os.path.join(directory_to_extract_to, 'sample_submission.csv')\n",
        "SHIPMENTS_FILEPATH = os.path.join(directory_to_extract_to, 'shipments')\n",
        "ADDRESSES_FILEPATH = os.path.join(directory_to_extract_to, 'misc', 'addresses.csv')\n",
        "CATEGORIES_FILEPATH = os.path.join(directory_to_extract_to, 'misc', 'master_categories.csv')\n",
        "PROFILES_FILEPATH = os.path.join(directory_to_extract_to, 'misc', 'user_profiles.csv')\n",
        "ACTIONS_FILEPATH = os.path.join(directory_to_extract_to, 'messages', 'actions.csv')\n",
        "MESSAGES_FILEPATH = os.path.join(directory_to_extract_to, 'messages', 'messages.csv')"
      ],
      "execution_count": 6,
      "outputs": []
    },
    {
      "cell_type": "markdown",
      "metadata": {
        "id": "amS8G5Y34Cjf"
      },
      "source": [
        "## Чтение данных"
      ]
    },
    {
      "cell_type": "code",
      "metadata": {
        "id": "Zfu0nWHPsRFv"
      },
      "source": [
        "train = pd.read_csv(TRAIN_FILEPATH).drop_duplicates()\n",
        "test = pd.read_csv(TEST_FILEPATH, sep=';')"
      ],
      "execution_count": 63,
      "outputs": []
    },
    {
      "cell_type": "code",
      "metadata": {
        "id": "o4IzMDNG8G60"
      },
      "source": [
        "shipments = get_data_from_path(SHIPMENTS_FILEPATH)"
      ],
      "execution_count": null,
      "outputs": []
    },
    {
      "cell_type": "code",
      "metadata": {
        "id": "zUOkRsELI93r"
      },
      "source": [
        "shipments['order_month'] = shipments['order_completed_at'].apply(lambda x: x[:7])"
      ],
      "execution_count": null,
      "outputs": []
    },
    {
      "cell_type": "code",
      "metadata": {
        "id": "lsUXAQ9KjYB5"
      },
      "source": [
        "shipments.to_csv(os.path.join(directory_to_extract_to, 'shipments.csv'), header=True, index=False)"
      ],
      "execution_count": 8,
      "outputs": []
    },
    {
      "cell_type": "code",
      "metadata": {
        "id": "CG2YoXk6zIXQ"
      },
      "source": [
        "# shipments = pd.read_csv(os.path.join(directory_to_extract_to, 'shipments.csv'))"
      ],
      "execution_count": 14,
      "outputs": []
    },
    {
      "cell_type": "code",
      "metadata": {
        "id": "kWGuqeuJ-uKZ"
      },
      "source": [
        "addresses = pd.read_csv(ADDRESSES_FILEPATH).drop_duplicates()\n",
        "# actions = pd.read_csv(ACTIONS_FILEPATH).drop_duplicates()\n",
        "user_profiles = pd.read_csv(PROFILES_FILEPATH).drop_duplicates()"
      ],
      "execution_count": 12,
      "outputs": []
    },
    {
      "cell_type": "code",
      "metadata": {
        "id": "1m5LcXKV3n8s"
      },
      "source": [
        "## считываем предобработанные данные на основа messages, actions"
      ],
      "execution_count": null,
      "outputs": []
    },
    {
      "cell_type": "code",
      "metadata": {
        "id": "_hMpbwH2mOcs"
      },
      "source": [
        "actions_prep = pd.read_csv(os.path.join(directory_to_extract_to, 'clean_user_actions.gz'), compression='gzip', header=0, error_bad_lines=False)"
      ],
      "execution_count": null,
      "outputs": []
    },
    {
      "cell_type": "code",
      "metadata": {
        "id": "UrpGEEBYtL8P"
      },
      "source": [
        "actions_prep['order_month'] = actions_prep.sent.apply(lambda x: str(datetime.utcfromtimestamp(x).strftime('%Y-%m')))"
      ],
      "execution_count": null,
      "outputs": []
    },
    {
      "cell_type": "code",
      "metadata": {
        "id": "59x6es-4zd8c"
      },
      "source": [
        "actions_prep = actions_prep.drop(['sent'], axis=1)"
      ],
      "execution_count": null,
      "outputs": []
    },
    {
      "cell_type": "code",
      "metadata": {
        "id": "1moXE_zizYMt"
      },
      "source": [
        "actions_prep['is_push'] = (actions_prep['type']=='push').astype('int')\n",
        "actions_prep['is_email'] = (actions_prep['type']=='email').astype('int')\n",
        "actions_prep['is_sms'] = (actions_prep['type']=='sms').astype('int')\n",
        "\n",
        "actions_prep['is_bonus'] = (actions_prep['cat']=='bonus').astype('int')\n",
        "actions_prep['is_hidden'] = (actions_prep['cat']=='hidden').astype('int')\n",
        "actions_prep['is_info'] = (actions_prep['cat']=='info').astype('int')\n",
        "actions_prep['is_misc'] = (actions_prep['cat']=='misc').astype('int')\n",
        "actions_prep['is_new_shops_info'] = (actions_prep['cat']=='new_shops_info').astype('int')\n",
        "actions_prep['is_promocode'] = (actions_prep['cat']=='promocode').astype('int')\n",
        "actions_prep['is_sale'] = (actions_prep['cat']=='sale').astype('int')"
      ],
      "execution_count": null,
      "outputs": []
    },
    {
      "cell_type": "code",
      "metadata": {
        "id": "DVyVrnd42qNf"
      },
      "source": [
        "actions_prep.to_csv(os.path.join(directory_to_extract_to, 'actions_clean.csv'), header=True, index=False)"
      ],
      "execution_count": null,
      "outputs": []
    },
    {
      "cell_type": "code",
      "metadata": {
        "id": "2qsBHkmP4AWt",
        "outputId": "02154a5d-573c-4eac-8dd2-bbd51cc4be60",
        "colab": {
          "base_uri": "https://localhost:8080/",
          "height": 71
        }
      },
      "source": [
        "# actions_prep = pd.read_csv(os.path.join(directory_to_extract_to, 'actions_clean.csv'))"
      ],
      "execution_count": null,
      "outputs": [
        {
          "output_type": "stream",
          "text": [
            "/usr/local/lib/python3.6/dist-packages/IPython/core/interactiveshell.py:2718: DtypeWarning: Columns (1,2) have mixed types.Specify dtype option on import or set low_memory=False.\n",
            "  interactivity=interactivity, compiler=compiler, result=result)\n"
          ],
          "name": "stderr"
        }
      ]
    },
    {
      "cell_type": "code",
      "metadata": {
        "id": "zXhzpDQyRJDk"
      },
      "source": [
        "# messages = pd.read_csv(MESSAGES_FILEPATH).drop_duplicates()"
      ],
      "execution_count": null,
      "outputs": []
    },
    {
      "cell_type": "code",
      "metadata": {
        "id": "xoBGZta65i5g",
        "outputId": "16de08cf-0c11-4dfc-fc1a-0b4d095ea9ef",
        "colab": {
          "base_uri": "https://localhost:8080/",
          "height": 345
        }
      },
      "source": [
        "count_by_date_tv = train.groupby([pd.Grouper(key='order_completed_at'), 'target']).phone_id.count()\n",
        "\n",
        "count_by_date_tv.unstack(level=1).plot.bar(stacked=True, title='target by month')"
      ],
      "execution_count": null,
      "outputs": [
        {
          "output_type": "execute_result",
          "data": {
            "text/plain": [
              "<matplotlib.axes._subplots.AxesSubplot at 0x7fc455418f28>"
            ]
          },
          "metadata": {
            "tags": []
          },
          "execution_count": 10
        },
        {
          "output_type": "display_data",
          "data": {
            "image/png": "[encoded data removed]",
            "text/plain": [
              "<Figure size 432x288 with 1 Axes>"
            ]
          },
          "metadata": {
            "tags": []
          }
        }
      ]
    },
    {
      "cell_type": "code",
      "metadata": {
        "id": "odfdnyvffqzl"
      },
      "source": [
        "count_by_date_tv.to_excel('/content/drive/My Drive/target.xlsx')"
      ],
      "execution_count": null,
      "outputs": []
    },
    {
      "cell_type": "code",
      "metadata": {
        "id": "FNQwBQN25i8c",
        "outputId": "af3df249-5b0a-42c8-bb0f-f08654bf6f18",
        "colab": {
          "base_uri": "https://localhost:8080/",
          "height": 345
        }
      },
      "source": [
        "count_by_date = train.groupby([pd.Grouper(key='order_completed_at')]).phone_id.count()\n",
        "\n",
        "count_by_date_tv.unstack(level=1).div(count_by_date, axis=0).plot.bar(stacked=True, title='Доля target by month')"
      ],
      "execution_count": null,
      "outputs": [
        {
          "output_type": "execute_result",
          "data": {
            "text/plain": [
              "<matplotlib.axes._subplots.AxesSubplot at 0x7f9f7b6a5860>"
            ]
          },
          "metadata": {
            "tags": []
          },
          "execution_count": 16
        },
        {
          "output_type": "display_data",
          "data": {
            "image/png": "[encoded data removed]",
            "text/plain": [
              "<Figure size 432x288 with 1 Axes>"
            ]
          },
          "metadata": {
            "tags": []
          }
        }
      ]
    },
    {
      "cell_type": "markdown",
      "metadata": {
        "id": "UhjU7FN64KSf"
      },
      "source": [
        "## Агрегация и фичи\n",
        "\n",
        "джойним в соответствии со структурой данных, делаем агрегаты для пары значений `phone_id`, `order_month`"
      ]
    },
    {
      "cell_type": "code",
      "metadata": {
        "id": "XvDDT-Xus8RC"
      },
      "source": [
        "def aggregate_preprocess(df, shipments=shipments, addresses=addresses, actions=actions_prep, test=False):\n",
        "\n",
        "    if test:\n",
        "        df = df.copy().drop(['Predicted'], axis=1)\n",
        "        step_1 = df.merge(addresses, how='left', left_on='Id', right_on='phone_id').merge(shipments[shipments.order_month=='2020-08'], how='left', left_on='id', right_on='ship_address_id')\n",
        "    else:\n",
        "        step_1 = df.merge(addresses, how='left', on='phone_id').merge(shipments, how='left', left_on=['id','order_completed_at'], right_on=['ship_address_id', 'order_month'])\n",
        "    \n",
        "    step_1['is_canceled'] = (step_1['s.order_state']=='canceled').astype('int')\n",
        "    step_1['is_complete'] = (step_1['s.order_state']=='complete').astype('int')\n",
        "    if test: \n",
        "        step_1['order_duration_time'] = (pd.to_datetime(step_1['order_completed_at']) - pd.to_datetime(step_1['order_created_at'])) \\\n",
        "                                    .fillna(pd.Timedelta(seconds=0)).apply(lambda x: x.total_seconds())\n",
        "\n",
        "        step_1['shipment_duration_time'] = (pd.to_datetime(step_1['shipped_at']) - pd.to_datetime(step_1['shipment_starts_at'])) \\\n",
        "                                    .fillna(pd.Timedelta(seconds=0)).apply(lambda x: x.total_seconds())\n",
        "\n",
        "        step_1['order_time'] = (pd.to_datetime(step_1['shipped_at']) - pd.to_datetime(step_1['order_completed_at'])) \\\n",
        "                                    .fillna(pd.Timedelta(seconds=0)).apply(lambda x: x.total_seconds())\n",
        "    else:\n",
        "        step_1['order_duration_time'] = (pd.to_datetime(step_1['order_completed_at_y']) - pd.to_datetime(step_1['order_created_at'])) \\\n",
        "                                    .fillna(pd.Timedelta(seconds=0)).apply(lambda x: x.total_seconds())\n",
        "\n",
        "        step_1['shipment_duration_time'] = (pd.to_datetime(step_1['shipped_at']) - pd.to_datetime(step_1['shipment_starts_at'])) \\\n",
        "                                    .fillna(pd.Timedelta(seconds=0)).apply(lambda x: x.total_seconds())\n",
        "\n",
        "        step_1['order_time'] = (pd.to_datetime(step_1['shipped_at']) - pd.to_datetime(step_1['order_completed_at_y'])) \\\n",
        "                                    .fillna(pd.Timedelta(seconds=0)).apply(lambda x: x.total_seconds())\n",
        "\n",
        "    step_1['is_web'] = (step_1['platform']=='web').astype('int')\n",
        "    step_1['is_app'] = (step_1['platform']=='app').astype('int')\n",
        "\n",
        "    step_1['is_windows'] = (step_1['os']=='windows').astype('int')\n",
        "    step_1['is_mac'] = (step_1['os']=='mac').astype('int')\n",
        "    step_1['is_other'] = (step_1['os']=='other').astype('int')\n",
        "    step_1['is_android'] = (step_1['os']=='android').astype('int')\n",
        "    step_1['is_ios'] = (step_1['os']=='ios').astype('int')\n",
        "    step_1['is_linux'] = (step_1['os']=='linux').astype('int')\n",
        "\n",
        "    step_1['is_courier'] = (step_1['dw_kind']=='courier').astype('int')\n",
        "    step_1['is_pickup'] = (step_1['dw_kind']=='pickup').astype('int')\n",
        "\n",
        "    print('finished step 1 at', datetime.now())\n",
        "\n",
        "    add_actions = step_1[['phone_id', 'user_id', 'order_month']].merge(actions_prep, how='left', on=['user_id', 'order_month'])\n",
        "    aggr_actions = add_actions.groupby(['phone_id', 'order_month']).agg({'is_push': ['max', 'sum'],\n",
        "                                                      'is_email': ['max', 'sum'],\n",
        "                                                      'is_sms': ['max', 'sum'],\n",
        "                                                      'is_bonus': ['max', 'sum'],\n",
        "                                                      'is_hidden': ['max', 'sum'],\n",
        "                                                      'is_info': ['max', 'sum'],\n",
        "                                                      'is_misc': ['max', 'sum'],\n",
        "                                                      'is_new_shops_info': ['max', 'sum'],\n",
        "                                                      'is_promocode': ['max', 'sum'],\n",
        "                                                      'is_sale': ['max', 'sum']\n",
        "                                                 })\n",
        "    print('finished actions aggr at', datetime.now())\n",
        "\n",
        "    step_2 = step_1.groupby(['phone_id', 'order_month']).agg({'total_cost': ['min', 'max', 'sum', 'mean'], \n",
        "                                                 'total_weight': ['min', 'max', 'sum', 'mean'],\n",
        "                                                 'order_duration_time': ['min', 'max', 'sum', 'mean'], \n",
        "                                                 'shipment_duration_time' : ['min', 'max', 'sum', 'mean'],\n",
        "                                                 'order_time': ['min', 'max', 'sum', 'mean'],\n",
        "                                                 'promo_total': ['min', 'sum'],\n",
        "                                                 'rate':['min', 'max', 'mean'],\n",
        "                                                 'is_complete': ['sum'],\n",
        "                                                 'is_canceled': ['sum'],\n",
        "                                                 'is_web': ['max'],\n",
        "                                                 'is_app': ['max'],\n",
        "                                                 'is_windows': ['max'],\n",
        "                                                 'is_mac': ['max'],\n",
        "                                                 'is_other': ['max'],\n",
        "                                                 'is_android': ['max'],\n",
        "                                                 'is_ios': ['max'],\n",
        "                                                 'is_linux': ['max'],\n",
        "                                                 'is_courier': ['max'],\n",
        "                                                 'is_pickup': ['max']\n",
        "                                                 })\n",
        "    \n",
        "    del step_1, add_actions\n",
        "    gc.collect()\n",
        "\n",
        "    step_2.columns = [\"_\".join(x) for x in step_2.columns.ravel()]\n",
        "    aggr_actions.columns = [\"_\".join(x) for x in aggr_actions.columns.ravel()]\n",
        "\n",
        "    step_2 = step_2.merge(aggr_actions, on=['phone_id', 'order_month'])\n",
        "\n",
        "    print('finished step 2 at', datetime.now())\n",
        "\n",
        "    if test:\n",
        "        data_full = df.merge(step_2, how='left', left_on = 'Id',  right_on = 'phone_id')\n",
        "    else:\n",
        "        data_full = df.merge(step_2, how='left', left_on = ['phone_id','order_completed_at'],  right_on = ['phone_id', 'order_month'])\n",
        "\n",
        "    del step_2, aggr_actions\n",
        "    gc.collect()\n",
        "\n",
        "    return data_full"
      ],
      "execution_count": null,
      "outputs": []
    },
    {
      "cell_type": "code",
      "metadata": {
        "id": "x1M7YtIv4m7L"
      },
      "source": [
        "## агрегаты, которые для быстроты проверки были вынесены из функции"
      ],
      "execution_count": null,
      "outputs": []
    },
    {
      "cell_type": "code",
      "metadata": {
        "id": "2C2R-TmK2-qX"
      },
      "source": [
        "step_1 = pd.read_csv(os.path.join(directory_to_extract_to, 'merged_data_shipments.csv'), usecols=['phone_id', 'user_id', 'order_month', 's.city_name'])"
      ],
      "execution_count": 39,
      "outputs": []
    },
    {
      "cell_type": "code",
      "metadata": {
        "id": "Xbp6y8iBS4Xo"
      },
      "source": [
        "step_1_test = test.merge(addresses, how='left', left_on='Id', right_on='phone_id').merge(shipments[shipments.order_month=='2020-08'], how='left', left_on='id', right_on='ship_address_id')\n",
        "    "
      ],
      "execution_count": 15,
      "outputs": []
    },
    {
      "cell_type": "code",
      "metadata": {
        "id": "Z623Ziewzrvc"
      },
      "source": [
        "data_user_train = step_1.merge(user_profiles, how='left', on=['user_id'])"
      ],
      "execution_count": 16,
      "outputs": []
    },
    {
      "cell_type": "code",
      "metadata": {
        "id": "zeWE0yP07jv5"
      },
      "source": [
        "data_user_test = step_1_test.merge(user_profiles, how='left', on=['user_id'])"
      ],
      "execution_count": 19,
      "outputs": []
    },
    {
      "cell_type": "code",
      "metadata": {
        "id": "RlCUIetPE1UI"
      },
      "source": [
        "data_user_test.gender.replace({'female': 0, 'male':1, None:2}, inplace=True)"
      ],
      "execution_count": 20,
      "outputs": []
    },
    {
      "cell_type": "code",
      "metadata": {
        "id": "TH04JlXh0Esr"
      },
      "source": [
        "data_user_train.gender.replace({'female': 0, 'male':1, None:2}, inplace=True)"
      ],
      "execution_count": 21,
      "outputs": []
    },
    {
      "cell_type": "code",
      "metadata": {
        "id": "luAr-PNS3iVE"
      },
      "source": [
        "from datetime import date\n",
        "\n",
        "def calculate_age(born):\n",
        "    if type(born) is pd._libs.tslibs.timestamps.Timestamp:\n",
        "        today = date.today()\n",
        "        return today.year - born.year - ((today.month, today.day) < (born.month, born.day))\n",
        "    else:\n",
        "        return 0 "
      ],
      "execution_count": 22,
      "outputs": []
    },
    {
      "cell_type": "code",
      "metadata": {
        "id": "EE5_76L66Wgl"
      },
      "source": [
        "def to_date_format(date):\n",
        "    if '.' in date:\n",
        "       return pd.to_datetime(date, format='%d.%m.%Y', errors='ignore')\n",
        "    else:\n",
        "       return pd.to_datetime(date, format='%Y-%m-%d', errors='ignore')"
      ],
      "execution_count": 23,
      "outputs": []
    },
    {
      "cell_type": "code",
      "metadata": {
        "id": "QT3Mbkjx5Tc2"
      },
      "source": [
        "data_user_train['bdate'] = data_user_train['bdate'].astype('str')\n",
        "data_user_train['bdate_union'] = data_user_train['bdate'].apply(to_date_format)"
      ],
      "execution_count": 24,
      "outputs": []
    },
    {
      "cell_type": "code",
      "metadata": {
        "id": "2USOpGsKDUjN"
      },
      "source": [
        "data_user_test['bdate'] = data_user_test['bdate'].astype('str')\n",
        "data_user_test['bdate_union'] = data_user_test['bdate'].apply(to_date_format)"
      ],
      "execution_count": 25,
      "outputs": []
    },
    {
      "cell_type": "code",
      "metadata": {
        "id": "qfSSpun03Ba5"
      },
      "source": [
        "data_user_train['age'] = data_user_train['bdate_union'].apply(calculate_age)"
      ],
      "execution_count": 26,
      "outputs": []
    },
    {
      "cell_type": "code",
      "metadata": {
        "id": "o7zZhOqGEpec"
      },
      "source": [
        "data_user_test['age'] = data_user_test['bdate_union'].apply(calculate_age)"
      ],
      "execution_count": 27,
      "outputs": []
    },
    {
      "cell_type": "code",
      "metadata": {
        "id": "5bBxGOTV20J_"
      },
      "source": [
        "user_aggr_train = data_user_train.groupby(['phone_id', 'order_month']).agg({'gender': 'min', 'age':'max'})"
      ],
      "execution_count": 28,
      "outputs": []
    },
    {
      "cell_type": "code",
      "metadata": {
        "id": "YOWQjp2fEkya"
      },
      "source": [
        "user_aggr_test = data_user_test.groupby(['phone_id', 'order_month']).agg({'gender': 'min', 'age':'max'})"
      ],
      "execution_count": 29,
      "outputs": []
    },
    {
      "cell_type": "code",
      "metadata": {
        "id": "r-Y3NnL9B46P",
        "outputId": "46b898e5-da8e-490e-963c-f937e5633421",
        "colab": {
          "base_uri": "https://localhost:8080/",
          "height": 34
        }
      },
      "source": [
        "# del data_user_train\n",
        "gc.collect()"
      ],
      "execution_count": 30,
      "outputs": [
        {
          "output_type": "execute_result",
          "data": {
            "text/plain": [
              "98"
            ]
          },
          "metadata": {
            "tags": []
          },
          "execution_count": 30
        }
      ]
    },
    {
      "cell_type": "code",
      "metadata": {
        "id": "wmQHay_2RvL2",
        "outputId": "e9a636e6-9f74-43e0-f7db-aa0435cfd1df",
        "colab": {
          "base_uri": "https://localhost:8080/",
          "height": 51
        }
      },
      "source": [
        "%%time\n",
        "city_aggr = step_1.groupby(['phone_id', 'order_month']).agg({'s.city_name': 'max'})"
      ],
      "execution_count": 40,
      "outputs": [
        {
          "output_type": "stream",
          "text": [
            "CPU times: user 1min 40s, sys: 3.99 s, total: 1min 44s\n",
            "Wall time: 1min 35s\n"
          ],
          "name": "stdout"
        }
      ]
    },
    {
      "cell_type": "code",
      "metadata": {
        "id": "zali4YuEmUAH"
      },
      "source": [
        "city_aggr.columns = [\"_\".join(x) for x in city_aggr.columns.ravel()]"
      ],
      "execution_count": 41,
      "outputs": []
    },
    {
      "cell_type": "code",
      "metadata": {
        "id": "phnFVvR_YGgg",
        "outputId": "65815975-5bda-452a-9f42-0891e8f70143",
        "colab": {
          "base_uri": "https://localhost:8080/",
          "height": 51
        }
      },
      "source": [
        "%%time\n",
        "city_aggr_test = step_1_test.groupby(['phone_id', 'order_month']).agg({'s.city_name': 'max'})"
      ],
      "execution_count": 43,
      "outputs": [
        {
          "output_type": "stream",
          "text": [
            "CPU times: user 22.8 s, sys: 715 ms, total: 23.5 s\n",
            "Wall time: 21.5 s\n"
          ],
          "name": "stdout"
        }
      ]
    },
    {
      "cell_type": "code",
      "metadata": {
        "id": "Paq6BRN-mYAd"
      },
      "source": [
        "city_aggr_test.columns = [\"_\".join(x) for x in city_aggr_test.columns.ravel()]"
      ],
      "execution_count": 44,
      "outputs": []
    },
    {
      "cell_type": "code",
      "metadata": {
        "id": "Tw46kgaMmeto"
      },
      "source": [
        "city_aggr = city_aggr.rename(columns={'s_._c_i_t_y___n_a_m_e': 'city'})\n",
        "city_aggr_test = city_aggr_test.rename(columns={'s_._c_i_t_y___n_a_m_e': 'city'})"
      ],
      "execution_count": 45,
      "outputs": []
    },
    {
      "cell_type": "code",
      "metadata": {
        "id": "TYJWwr4E94ME"
      },
      "source": [
        "import numpy as np\n",
        "import math\n",
        "import seaborn as sns\n",
        "import matplotlib.pylab as plt\n",
        "from sklearn.preprocessing import OneHotEncoder\n",
        "from pylab import rcParams\n",
        "rcParams['figure.figsize'] = 20, 10"
      ],
      "execution_count": null,
      "outputs": []
    },
    {
      "cell_type": "markdown",
      "metadata": {
        "id": "huUN3iNg452k"
      },
      "source": [
        "## Объединяем данные в общую витрину\n",
        "\n",
        "Примечание: Использован агрегат от предыдущего запуска\n"
      ]
    },
    {
      "cell_type": "code",
      "metadata": {
        "id": "ZEYYDQmjwmBa"
      },
      "source": [
        "data_train = aggregate_preprocess(df=train)\n",
        "\n",
        "data_train.to_csv(os.path.join(directory_to_extract_to, 'data_train_aggr_3.csv'), header=True, index=False)\n",
        "# data_train = pd.read_csv(os.path.join(directory_to_extract_to, 'data_train_selected_FI.csv'))"
      ],
      "execution_count": 54,
      "outputs": []
    },
    {
      "cell_type": "code",
      "metadata": {
        "id": "tUKgFvhaz1ku"
      },
      "source": [
        "data_test = aggregate_preprocess(df=test, test=True)\n",
        "\n",
        "data_test.to_csv(os.path.join(directory_to_extract_to, 'data_test_aggr_3.csv'), header=True, index=False)"
      ],
      "execution_count": 61,
      "outputs": []
    },
    {
      "cell_type": "code",
      "metadata": {
        "id": "eZOmJqQ3UEbp"
      },
      "source": [
        "data_train_full = data_train.merge(user_aggr_train, how='left', left_on=['phone_id','order_completed_at'], right_on=['phone_id', 'order_month']).merge(city_aggr,  how='left', left_on=['phone_id','order_completed_at'], right_on=['phone_id', 'order_month'])"
      ],
      "execution_count": 56,
      "outputs": []
    },
    {
      "cell_type": "code",
      "metadata": {
        "id": "Gpd5sniYctjd"
      },
      "source": [
        "data_test_full = data_test.merge(user_aggr_test, how='left', left_on=['Id'], right_on=['phone_id']).merge(city_aggr_test,  how='left', left_on=['Id'], right_on=['phone_id'])"
      ],
      "execution_count": 66,
      "outputs": []
    },
    {
      "cell_type": "code",
      "metadata": {
        "id": "MbVc_z5_CeGZ"
      },
      "source": [
        "data_train_full.to_csv(os.path.join(directory_to_extract_to, 'data_train_age_gender.csv'), header=True, index=False)"
      ],
      "execution_count": 59,
      "outputs": []
    },
    {
      "cell_type": "code",
      "metadata": {
        "id": "t1fK-EJkoTBV"
      },
      "source": [
        "data_test_full.to_csv(os.path.join(directory_to_extract_to, 'data_test_age_gender.csv'), header=True, index=False)"
      ],
      "execution_count": 73,
      "outputs": []
    }
  ]
}